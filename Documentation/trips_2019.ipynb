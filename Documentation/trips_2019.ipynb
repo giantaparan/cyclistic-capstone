{
 "cells": [
  {
   "cell_type": "markdown",
   "metadata": {},
   "source": [
    "### This file is for cleaning tables too large for Google Sheets"
   ]
  },
  {
   "cell_type": "code",
   "execution_count": 2,
   "metadata": {},
   "outputs": [],
   "source": [
    "import numpy as np\n",
    "import pandas as pd\n",
    "import matplotlib.pyplot as plt\n",
    "\n",
    "trips_2019_q2 = pd.read_csv(r\"C:\\Program Files (x86)\\Data Analysis Practice\\Cyclistic Data\\2019\\Divvy_Trips_2019_Q2.csv\")\n",
    "trips_2019_q3 = pd.read_csv(r\"C:\\Program Files (x86)\\Data Analysis Practice\\Cyclistic Data\\2019\\Divvy_Trips_2019_Q3.csv\")\n",
    "trips_2019_q4 = pd.read_csv(r\"C:\\Program Files (x86)\\Data Analysis Practice\\Cyclistic Data\\2019\\Divvy_Trips_2019_Q4.csv\")"
   ]
  },
  {
   "cell_type": "markdown",
   "metadata": {},
   "source": [
    "#### Q2 cleaning"
   ]
  },
  {
   "cell_type": "code",
   "execution_count": 63,
   "metadata": {},
   "outputs": [],
   "source": [
    "q2_clean = trips_2019_q2.drop(['01 - Rental Details Bike ID', 'Member Gender', '05 - Member Details Member Birthday Year'], axis=1)\n",
    "q2_clean = q2_clean.rename(columns={'01 - Rental Details Rental ID': 'ride_id',\n",
    "                        '01 - Rental Details Local Start Time': 'start_time',\n",
    "                        '01 - Rental Details Local End Time': 'end_time',\n",
    "                        '01 - Rental Details Duration In Seconds Uncapped': 'ride_length_sec',\n",
    "                        '03 - Rental Start Station ID': 'start_station_id',\n",
    "                        '03 - Rental Start Station Name': 'start_station_name',\n",
    "                        '02 - Rental End Station ID': 'end_station_id',\n",
    "                        '02 - Rental End Station Name': 'end_station_name',\n",
    "                        'User Type': 'usertype'})"
   ]
  },
  {
   "cell_type": "code",
   "execution_count": 66,
   "metadata": {},
   "outputs": [],
   "source": [
    "q2_clean_sub = q2_clean.query('usertype == \"Subscriber\"')\n",
    "q2_clean_sub = q2_clean_sub.drop(['start_station_id', 'start_station_name', 'end_station_name', 'end_station_id'], axis=1)\n",
    "\n",
    "q2_clean_cust = q2_clean.query('usertype == \"Customer\"')\n",
    "\n",
    "q2_clean_sub.to_csv('Divvy_Trips_2019_Q2_sub.csv', index=False)\n",
    "q2_clean_cust.to_csv('Divvy_Trips_2019_Q2_cust.csv', index=False)"
   ]
  },
  {
   "cell_type": "markdown",
   "metadata": {},
   "source": [
    "#### Q3 cleaning"
   ]
  },
  {
   "cell_type": "code",
   "execution_count": 49,
   "metadata": {},
   "outputs": [],
   "source": [
    "q3_clean = trips_2019_q3.drop(['bikeid', 'gender', 'birthyear'], axis=1)\n",
    "q3_clean = q3_clean.rename(columns={'trip_id': 'ride_id',\n",
    "                         'tripduration': 'ride_length_sec',\n",
    "                         'from_station_id': 'start_station_id',\n",
    "                         'from_station_name': 'start_station_name',\n",
    "                         'to_station_id': 'end_station_id',\n",
    "                         'to_station_name': 'end_station_name'})"
   ]
  },
  {
   "cell_type": "code",
   "execution_count": 68,
   "metadata": {},
   "outputs": [],
   "source": [
    "q3_clean_sub = q3_clean.query('usertype == \"Subscriber\"')\n",
    "q3_clean_sub = q3_clean_sub.drop(['start_station_id', 'start_station_name', 'end_station_name', 'end_station_id'], axis=1)\n",
    "\n",
    "q3_clean_cust = q3_clean.query('usertype == \"Customer\"')\n",
    "\n",
    "q3_clean_sub.to_csv('Divvy_Trips_2019_Q3_sub.csv', index=False)\n",
    "q3_clean_cust.to_csv('Divvy_Trips_2019_Q3_cust.csv', index=False)"
   ]
  },
  {
   "cell_type": "markdown",
   "metadata": {},
   "source": [
    "#### Q4 cleaning"
   ]
  },
  {
   "cell_type": "code",
   "execution_count": 3,
   "metadata": {},
   "outputs": [],
   "source": [
    "q4_clean = trips_2019_q4.drop(['bikeid', 'gender', 'birthyear'], axis=1)\n",
    "q4_clean = q4_clean.rename(columns={'trip_id': 'ride_id',\n",
    "                                    'tripduration': 'ride_length_sec',\n",
    "                                    'from_station_id': 'start_station_id',\n",
    "                                    'from_station_name': 'start_station_name',\n",
    "                                    'to_station_id': 'end_station_id',\n",
    "                                    'to_station_name': 'end_station_name'})\n",
    "q4_clean.to_csv('Divvy_Trips_2019_Q4.csv', index=False)                                 "
   ]
  },
  {
   "cell_type": "code",
   "execution_count": 69,
   "metadata": {},
   "outputs": [],
   "source": [
    "q4_clean_sub = q4_clean.query('usertype == \"Subscriber\"')\n",
    "q4_clean_sub = q4_clean_sub.drop(['start_station_id', 'start_station_name', 'end_station_name', 'end_station_id'], axis=1)\n",
    "\n",
    "q4_clean_cust = q4_clean.query('usertype == \"Customer\"')\n",
    "\n",
    "q4_clean_sub.to_csv('Divvy_Trips_2019_Q4_sub.csv', index=False)\n",
    "q4_clean_cust.to_csv('Divvy_Trips_2019_Q4_cust.csv', index=False)"
   ]
  }
 ],
 "metadata": {
  "kernelspec": {
   "display_name": "Python 3",
   "language": "python",
   "name": "python3"
  },
  "language_info": {
   "codemirror_mode": {
    "name": "ipython",
    "version": 3
   },
   "file_extension": ".py",
   "mimetype": "text/x-python",
   "name": "python",
   "nbconvert_exporter": "python",
   "pygments_lexer": "ipython3",
   "version": "3.11.9"
  }
 },
 "nbformat": 4,
 "nbformat_minor": 2
}
